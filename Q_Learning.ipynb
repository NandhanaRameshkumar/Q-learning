{
  "cells": [
    {
      "cell_type": "markdown",
      "metadata": {
        "id": "view-in-github",
        "colab_type": "text"
      },
      "source": [
        "<a href=\"https://colab.research.google.com/github/NandhanaRameshkumar/Q-learning/blob/main/Q_Learning.ipynb\" target=\"_parent\"><img src=\"https://colab.research.google.com/assets/colab-badge.svg\" alt=\"Open In Colab\"/></a>"
      ]
    },
    {
      "cell_type": "code",
      "execution_count": null,
      "id": "9b758a89",
      "metadata": {
        "id": "9b758a89",
        "outputId": "bf44707b-5368-41b8-fa4c-63bf7f238c66"
      },
      "outputs": [
        {
          "name": "stdout",
          "output_type": "stream",
          "text": [
            "Learned Q-values:\n",
            "[[ 0.1810089   0.18678651  0.01518705  0.71509699]\n",
            " [ 0.08713604 -0.03859681  0.16118307  0.24448167]\n",
            " [ 0.83979455 -0.33560994 -0.17688869 -0.22256006]\n",
            " [ 0.08635554 -0.21298734 -0.10405171 -0.13272356]\n",
            " [-0.05129619 -0.46529288  0.01210843 -0.00455259]\n",
            " [-0.08920353 -0.20301238 -0.03509546  0.10448408]\n",
            " [-0.32868787 -0.07318781 -0.11406954  0.15414881]\n",
            " [ 0.4202393   0.02789978 -0.06801074 -0.03380731]\n",
            " [ 0.0909128   0.3207324  -0.34631363 -0.08375554]\n",
            " [-0.05594635  0.14014766 -0.17209741 -0.31746499]\n",
            " [ 0.32978008 -0.0674569   0.05198254  0.02667061]\n",
            " [-0.12227229  0.24600829 -0.38031165 -0.3328942 ]\n",
            " [ 0.78052375 -0.20177803  0.04631618 -0.12350052]\n",
            " [-0.16932811  0.3893554  -0.26882549  0.07006955]\n",
            " [ 0.18826156 -0.29526626  0.04192198 -0.0572808 ]\n",
            " [-0.08379133  0.66749963 -0.04932762  0.07023948]]\n",
            "6\n"
          ]
        }
      ],
      "source": [
        "import numpy as np\n",
        "\n",
        "class QLearningAgent: # class creation\n",
        "    def __init__(self, num_states, num_actions, learning_rate=0.1, discount_factor=0.9, epsilon=0.1):# creating a constructor for a class\n",
        "        self.num_states = num_states\n",
        "        self.num_actions = num_actions\n",
        "        self.learning_rate = learning_rate\n",
        "        self.discount_factor = discount_factor\n",
        "        self.epsilon = epsilon\n",
        "        self.q_table = np.zeros((num_states, num_actions))# Creating numpy array for storing q values in table\n",
        "\n",
        "    def choose_action(self, state): # selects an action\n",
        "        if np.random.uniform(0, 1) < self.epsilon:\n",
        "            return np.random.choice(self.num_actions)  # Exploration\n",
        "        else:\n",
        "            return np.argmax(self.q_table[state])  # Exploitation\n",
        "\n",
        "    def update_q_table(self, state, action, reward, next_state): # update the q values\n",
        "        best_next_action = np.argmax(self.q_table[next_state])\n",
        "        td_target = reward + self.discount_factor * self.q_table[next_state, best_next_action]\n",
        "        td_error = td_target - self.q_table[state, action]\n",
        "        self.q_table[state, action] += self.learning_rate * td_error\n",
        "\n",
        "# Example usage:\n",
        "if __name__ == \"__main__\": # main\n",
        "    # Define environment\n",
        "    # Example: Grid world environment\n",
        "    num_states = 16  # Example: 4x4 grid world\n",
        "    num_actions = 4  # Example: up, down, left, right\n",
        "\n",
        "    # Create Q-learning agent\n",
        "    agent = QLearningAgent(num_states, num_actions)\n",
        "\n",
        "    # Q-learning\n",
        "    num_episodes = 1000\n",
        "    max_steps = 100\n",
        "    for episode in range(num_episodes):\n",
        "        state = np.random.randint(0, num_states)  # Start from a random state\n",
        "        for step in range(max_steps):\n",
        "            action = agent.choose_action(state)\n",
        "            next_state = np.random.choice(num_states)  # Transition to a random next state\n",
        "            reward = np.random.normal(0, 1)  # Example: Reward from a normal distribution\n",
        "            agent.update_q_table(state, action, reward, next_state)\n",
        "            state = next_state\n",
        "\n",
        "    # Print learned Q-values\n",
        "    print(\"Learned Q-values:\")\n",
        "    print(agent.q_table)\n",
        "    print(next_state)\n"
      ]
    }
  ],
  "metadata": {
    "kernelspec": {
      "display_name": "Python 3 (ipykernel)",
      "language": "python",
      "name": "python3"
    },
    "language_info": {
      "codemirror_mode": {
        "name": "ipython",
        "version": 3
      },
      "file_extension": ".py",
      "mimetype": "text/x-python",
      "name": "python",
      "nbconvert_exporter": "python",
      "pygments_lexer": "ipython3",
      "version": "3.9.12"
    },
    "colab": {
      "provenance": [],
      "include_colab_link": true
    }
  },
  "nbformat": 4,
  "nbformat_minor": 5
}